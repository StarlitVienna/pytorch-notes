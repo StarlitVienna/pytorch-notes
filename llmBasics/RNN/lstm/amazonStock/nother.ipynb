{
 "cells": [
  {
   "cell_type": "code",
   "execution_count": 3,
   "metadata": {},
   "outputs": [],
   "source": [
    "import torch\n",
    "from torch import nn\n",
    "import pandas as pd\n",
    "import numpy as np"
   ]
  },
  {
   "cell_type": "code",
   "execution_count": 4,
   "metadata": {},
   "outputs": [],
   "source": [
    "context_size = 7"
   ]
  },
  {
   "cell_type": "code",
   "execution_count": 5,
   "metadata": {},
   "outputs": [
    {
     "name": "stderr",
     "output_type": "stream",
     "text": [
      "/tmp/ipykernel_91904/1196380436.py:6: SettingWithCopyWarning: \n",
      "A value is trying to be set on a copy of a slice from a DataFrame.\n",
      "Try using .loc[row_indexer,col_indexer] = value instead\n",
      "\n",
      "See the caveats in the documentation: https://pandas.pydata.org/pandas-docs/stable/user_guide/indexing.html#returning-a-view-versus-a-copy\n",
      "  data_frame[f\"Close t-{i+1}\"] = data_frame[\"Close\"].shift(i+1)\n",
      "/tmp/ipykernel_91904/1196380436.py:6: SettingWithCopyWarning: \n",
      "A value is trying to be set on a copy of a slice from a DataFrame.\n",
      "Try using .loc[row_indexer,col_indexer] = value instead\n",
      "\n",
      "See the caveats in the documentation: https://pandas.pydata.org/pandas-docs/stable/user_guide/indexing.html#returning-a-view-versus-a-copy\n",
      "  data_frame[f\"Close t-{i+1}\"] = data_frame[\"Close\"].shift(i+1)\n",
      "/tmp/ipykernel_91904/1196380436.py:6: SettingWithCopyWarning: \n",
      "A value is trying to be set on a copy of a slice from a DataFrame.\n",
      "Try using .loc[row_indexer,col_indexer] = value instead\n",
      "\n",
      "See the caveats in the documentation: https://pandas.pydata.org/pandas-docs/stable/user_guide/indexing.html#returning-a-view-versus-a-copy\n",
      "  data_frame[f\"Close t-{i+1}\"] = data_frame[\"Close\"].shift(i+1)\n",
      "/tmp/ipykernel_91904/1196380436.py:6: SettingWithCopyWarning: \n",
      "A value is trying to be set on a copy of a slice from a DataFrame.\n",
      "Try using .loc[row_indexer,col_indexer] = value instead\n",
      "\n",
      "See the caveats in the documentation: https://pandas.pydata.org/pandas-docs/stable/user_guide/indexing.html#returning-a-view-versus-a-copy\n",
      "  data_frame[f\"Close t-{i+1}\"] = data_frame[\"Close\"].shift(i+1)\n"
     ]
    }
   ],
   "source": [
    "df = pd.read_csv(\"./AMZN.csv\")\n",
    "data = df[[\"Date\", \"Close\"]]\n",
    "\n",
    "def gen_data_for_lstm(data_frame, context_size):\n",
    "    for i in range(context_size):\n",
    "        data_frame[f\"Close t-{i+1}\"] = data_frame[\"Close\"].shift(i+1)\n",
    "    data_frame = data_frame.iloc[context_size:]\n",
    "    data_frame.set_index(\"Date\", inplace=True)\n",
    "    return data_frame\n",
    "    \n",
    "data = gen_data_for_lstm(data, 7)"
   ]
  },
  {
   "cell_type": "code",
   "execution_count": 6,
   "metadata": {},
   "outputs": [
    {
     "data": {
      "text/html": [
       "<div>\n",
       "<style scoped>\n",
       "    .dataframe tbody tr th:only-of-type {\n",
       "        vertical-align: middle;\n",
       "    }\n",
       "\n",
       "    .dataframe tbody tr th {\n",
       "        vertical-align: top;\n",
       "    }\n",
       "\n",
       "    .dataframe thead th {\n",
       "        text-align: right;\n",
       "    }\n",
       "</style>\n",
       "<table border=\"1\" class=\"dataframe\">\n",
       "  <thead>\n",
       "    <tr style=\"text-align: right;\">\n",
       "      <th></th>\n",
       "      <th>Close</th>\n",
       "      <th>Close t-1</th>\n",
       "      <th>Close t-2</th>\n",
       "      <th>Close t-3</th>\n",
       "      <th>Close t-4</th>\n",
       "      <th>Close t-5</th>\n",
       "      <th>Close t-6</th>\n",
       "      <th>Close t-7</th>\n",
       "    </tr>\n",
       "    <tr>\n",
       "      <th>Date</th>\n",
       "      <th></th>\n",
       "      <th></th>\n",
       "      <th></th>\n",
       "      <th></th>\n",
       "      <th></th>\n",
       "      <th></th>\n",
       "      <th></th>\n",
       "      <th></th>\n",
       "    </tr>\n",
       "  </thead>\n",
       "  <tbody>\n",
       "    <tr>\n",
       "      <th>1997-05-27</th>\n",
       "      <td>0.079167</td>\n",
       "      <td>0.075000</td>\n",
       "      <td>0.069792</td>\n",
       "      <td>0.071354</td>\n",
       "      <td>0.081771</td>\n",
       "      <td>0.085417</td>\n",
       "      <td>0.086458</td>\n",
       "      <td>0.097917</td>\n",
       "    </tr>\n",
       "    <tr>\n",
       "      <th>1997-05-28</th>\n",
       "      <td>0.076563</td>\n",
       "      <td>0.079167</td>\n",
       "      <td>0.075000</td>\n",
       "      <td>0.069792</td>\n",
       "      <td>0.071354</td>\n",
       "      <td>0.081771</td>\n",
       "      <td>0.085417</td>\n",
       "      <td>0.086458</td>\n",
       "    </tr>\n",
       "    <tr>\n",
       "      <th>1997-05-29</th>\n",
       "      <td>0.075260</td>\n",
       "      <td>0.076563</td>\n",
       "      <td>0.079167</td>\n",
       "      <td>0.075000</td>\n",
       "      <td>0.069792</td>\n",
       "      <td>0.071354</td>\n",
       "      <td>0.081771</td>\n",
       "      <td>0.085417</td>\n",
       "    </tr>\n",
       "    <tr>\n",
       "      <th>1997-05-30</th>\n",
       "      <td>0.075000</td>\n",
       "      <td>0.075260</td>\n",
       "      <td>0.076563</td>\n",
       "      <td>0.079167</td>\n",
       "      <td>0.075000</td>\n",
       "      <td>0.069792</td>\n",
       "      <td>0.071354</td>\n",
       "      <td>0.081771</td>\n",
       "    </tr>\n",
       "    <tr>\n",
       "      <th>1997-06-02</th>\n",
       "      <td>0.075521</td>\n",
       "      <td>0.075000</td>\n",
       "      <td>0.075260</td>\n",
       "      <td>0.076563</td>\n",
       "      <td>0.079167</td>\n",
       "      <td>0.075000</td>\n",
       "      <td>0.069792</td>\n",
       "      <td>0.071354</td>\n",
       "    </tr>\n",
       "    <tr>\n",
       "      <th>...</th>\n",
       "      <td>...</td>\n",
       "      <td>...</td>\n",
       "      <td>...</td>\n",
       "      <td>...</td>\n",
       "      <td>...</td>\n",
       "      <td>...</td>\n",
       "      <td>...</td>\n",
       "      <td>...</td>\n",
       "    </tr>\n",
       "    <tr>\n",
       "      <th>2023-03-30</th>\n",
       "      <td>102.000000</td>\n",
       "      <td>100.250000</td>\n",
       "      <td>97.239998</td>\n",
       "      <td>98.040001</td>\n",
       "      <td>98.129997</td>\n",
       "      <td>98.709999</td>\n",
       "      <td>98.699997</td>\n",
       "      <td>100.610001</td>\n",
       "    </tr>\n",
       "    <tr>\n",
       "      <th>2023-03-31</th>\n",
       "      <td>103.290001</td>\n",
       "      <td>102.000000</td>\n",
       "      <td>100.250000</td>\n",
       "      <td>97.239998</td>\n",
       "      <td>98.040001</td>\n",
       "      <td>98.129997</td>\n",
       "      <td>98.709999</td>\n",
       "      <td>98.699997</td>\n",
       "    </tr>\n",
       "    <tr>\n",
       "      <th>2023-04-03</th>\n",
       "      <td>102.410004</td>\n",
       "      <td>103.290001</td>\n",
       "      <td>102.000000</td>\n",
       "      <td>100.250000</td>\n",
       "      <td>97.239998</td>\n",
       "      <td>98.040001</td>\n",
       "      <td>98.129997</td>\n",
       "      <td>98.709999</td>\n",
       "    </tr>\n",
       "    <tr>\n",
       "      <th>2023-04-04</th>\n",
       "      <td>103.949997</td>\n",
       "      <td>102.410004</td>\n",
       "      <td>103.290001</td>\n",
       "      <td>102.000000</td>\n",
       "      <td>100.250000</td>\n",
       "      <td>97.239998</td>\n",
       "      <td>98.040001</td>\n",
       "      <td>98.129997</td>\n",
       "    </tr>\n",
       "    <tr>\n",
       "      <th>2023-04-05</th>\n",
       "      <td>101.099998</td>\n",
       "      <td>103.949997</td>\n",
       "      <td>102.410004</td>\n",
       "      <td>103.290001</td>\n",
       "      <td>102.000000</td>\n",
       "      <td>100.250000</td>\n",
       "      <td>97.239998</td>\n",
       "      <td>98.040001</td>\n",
       "    </tr>\n",
       "  </tbody>\n",
       "</table>\n",
       "<p>6509 rows × 8 columns</p>\n",
       "</div>"
      ],
      "text/plain": [
       "                 Close   Close t-1   Close t-2   Close t-3   Close t-4  \\\n",
       "Date                                                                     \n",
       "1997-05-27    0.079167    0.075000    0.069792    0.071354    0.081771   \n",
       "1997-05-28    0.076563    0.079167    0.075000    0.069792    0.071354   \n",
       "1997-05-29    0.075260    0.076563    0.079167    0.075000    0.069792   \n",
       "1997-05-30    0.075000    0.075260    0.076563    0.079167    0.075000   \n",
       "1997-06-02    0.075521    0.075000    0.075260    0.076563    0.079167   \n",
       "...                ...         ...         ...         ...         ...   \n",
       "2023-03-30  102.000000  100.250000   97.239998   98.040001   98.129997   \n",
       "2023-03-31  103.290001  102.000000  100.250000   97.239998   98.040001   \n",
       "2023-04-03  102.410004  103.290001  102.000000  100.250000   97.239998   \n",
       "2023-04-04  103.949997  102.410004  103.290001  102.000000  100.250000   \n",
       "2023-04-05  101.099998  103.949997  102.410004  103.290001  102.000000   \n",
       "\n",
       "             Close t-5  Close t-6   Close t-7  \n",
       "Date                                           \n",
       "1997-05-27    0.085417   0.086458    0.097917  \n",
       "1997-05-28    0.081771   0.085417    0.086458  \n",
       "1997-05-29    0.071354   0.081771    0.085417  \n",
       "1997-05-30    0.069792   0.071354    0.081771  \n",
       "1997-06-02    0.075000   0.069792    0.071354  \n",
       "...                ...        ...         ...  \n",
       "2023-03-30   98.709999  98.699997  100.610001  \n",
       "2023-03-31   98.129997  98.709999   98.699997  \n",
       "2023-04-03   98.040001  98.129997   98.709999  \n",
       "2023-04-04   97.239998  98.040001   98.129997  \n",
       "2023-04-05  100.250000  97.239998   98.040001  \n",
       "\n",
       "[6509 rows x 8 columns]"
      ]
     },
     "execution_count": 6,
     "metadata": {},
     "output_type": "execute_result"
    }
   ],
   "source": [
    "data"
   ]
  },
  {
   "cell_type": "code",
   "execution_count": 7,
   "metadata": {},
   "outputs": [
    {
     "name": "stdout",
     "output_type": "stream",
     "text": [
      "[[-0.99969839 -0.99982128 -0.99983244 ... -1.         -0.99995531\n",
      "  -0.99991063]\n",
      " [-0.99982128 -0.99983244 -0.99987154 ... -0.99994415 -0.99991063\n",
      "  -0.99993855]\n",
      " [-0.99983244 -0.99987154 -0.99998325 ... -0.99989946 -0.99993855\n",
      "  -0.99995253]\n",
      " ...\n",
      " [ 0.05779984  0.05158     0.0506149  ...  0.09308121  0.10690997\n",
      "   0.09747299]\n",
      " [ 0.05158     0.0506149   0.04203581 ...  0.10691495  0.09747299\n",
      "   0.11398769]\n",
      " [ 0.0506149   0.04203581  0.07431453 ...  0.09747802  0.11398769\n",
      "   0.08342464]]\n"
     ]
    }
   ],
   "source": [
    "numpy_data = data.to_numpy()\n",
    "\n",
    "#To feed this data to the lstm it must be feed in order\n",
    "#From the oldest to the most recent data\n",
    "\n",
    "numpy_data = np.fliplr(numpy_data)\n",
    "\n",
    "#scale down the data to properly feed it to the lstm so it converges faster\n",
    "\n",
    "from sklearn.preprocessing import MinMaxScaler\n",
    "\n",
    "scaler = MinMaxScaler(feature_range=(-1, 1))\n",
    "numpy_data = scaler.fit_transform(numpy_data)\n",
    "print(numpy_data)"
   ]
  },
  {
   "cell_type": "code",
   "execution_count": 8,
   "metadata": {},
   "outputs": [
    {
     "name": "stdout",
     "output_type": "stream",
     "text": [
      "(6509, 7)\n",
      "(6509, 1)\n"
     ]
    }
   ],
   "source": [
    "inputs = numpy_data[:, :-1]\n",
    "labels = numpy_data[:, -1].reshape(len(inputs), 1)\n",
    "print(inputs.shape)\n",
    "print(labels.shape)"
   ]
  },
  {
   "cell_type": "code",
   "execution_count": 9,
   "metadata": {},
   "outputs": [
    {
     "name": "stdout",
     "output_type": "stream",
     "text": [
      "[[-0.99991063]\n",
      " [-0.99993855]\n",
      " [-0.99995253]\n",
      " ...\n",
      " [ 0.09747299]\n",
      " [ 0.11398769]\n",
      " [ 0.08342464]]\n"
     ]
    }
   ],
   "source": [
    "print(labels)"
   ]
  },
  {
   "cell_type": "code",
   "execution_count": 40,
   "metadata": {},
   "outputs": [],
   "source": [
    "train_percent = 0.95\n",
    "train_split = int(len(inputs) * train_percent)\n",
    "\n",
    "train_inputs = inputs[:train_split]\n",
    "train_labels = labels[:train_split]\n",
    "\n",
    "test_inputs = inputs[train_split:]\n",
    "test_labels = labels[train_split:]"
   ]
  },
  {
   "cell_type": "code",
   "execution_count": 41,
   "metadata": {},
   "outputs": [],
   "source": [
    "train_inputs = torch.tensor(train_inputs).unsqueeze(-1).type(torch.float32)\n",
    "test_inputs = torch.tensor(test_inputs).unsqueeze(-1).type(torch.float32)\n",
    "\n",
    "train_labels = torch.tensor(train_labels)\n",
    "test_labels = torch.tensor(test_labels)\n",
    "\n",
    "\n",
    "\n",
    "\n",
    "train_dataset = torch.utils.data.TensorDataset(train_inputs.type(torch.float32), train_labels.type(torch.float32))\n",
    "test_dataset = torch.utils.data.TensorDataset(test_inputs.type(torch.float32), test_labels.type(torch.float32))\n",
    "\n",
    "train_dataloader = torch.utils.data.DataLoader(dataset=train_dataset, batch_size=32, shuffle=True)\n",
    "test_dataloader = torch.utils.data.DataLoader(dataset=test_dataset, batch_size=32, shuffle=True)\n"
   ]
  },
  {
   "cell_type": "code",
   "execution_count": 42,
   "metadata": {},
   "outputs": [
    {
     "name": "stdout",
     "output_type": "stream",
     "text": [
      "torch.Size([6183, 7, 1])\n",
      "torch.Size([326, 7, 1])\n"
     ]
    }
   ],
   "source": [
    "print(train_inputs.shape)\n",
    "print(test_inputs.shape)"
   ]
  },
  {
   "cell_type": "code",
   "execution_count": 43,
   "metadata": {},
   "outputs": [],
   "source": [
    "class LSTM(nn.Module):\n",
    "    def __init__(self, inputs_size, hidden_size, n_stacked_layers):\n",
    "        super(LSTM, self).__init__()\n",
    "        \n",
    "        self.inputs_size = inputs_size\n",
    "        self.hidden_size = hidden_size\n",
    "        self.n_stacked_layers = n_stacked_layers\n",
    "\n",
    "        self.lstm = nn.LSTM(inputs_size, hidden_size, n_stacked_layers, batch_first=True)\n",
    "        self.fully_connected = nn.Linear(in_features=hidden_size, out_features=1)\n",
    "\n",
    "    def forward(self, x):\n",
    "        batch_size = x.shape[0]\n",
    "\n",
    "        #need to pass in the hidden states for the long memory and short memory\n",
    "        h0 = torch.zeros((self.n_stacked_layers, batch_size, self.hidden_size))\n",
    "        c0 = torch.zeros((self.n_stacked_layers, batch_size, self.hidden_size))\n",
    "\n",
    "        out, _ = self.lstm(x, (h0, c0))\n",
    "        out = self.fully_connected(out[:, -1, :])\n",
    "        return out"
   ]
  },
  {
   "cell_type": "code",
   "execution_count": 44,
   "metadata": {},
   "outputs": [],
   "source": [
    "from tqdm import tqdm\n",
    "model = LSTM(1, 4, 1)\n",
    "\n",
    "lr = 0.1\n",
    "optimizer = torch.optim.AdamW(params=model.parameters(), lr=lr)\n",
    "loss_fn = nn.MSELoss()"
   ]
  },
  {
   "cell_type": "code",
   "execution_count": 49,
   "metadata": {},
   "outputs": [
    {
     "name": "stderr",
     "output_type": "stream",
     "text": [
      "100%|██████████| 10/10 [00:02<00:00,  4.19it/s]"
     ]
    },
    {
     "name": "stdout",
     "output_type": "stream",
     "text": [
      "tensor(3.6890e-05, grad_fn=<MseLossBackward0>)\n"
     ]
    },
    {
     "name": "stderr",
     "output_type": "stream",
     "text": [
      "\n"
     ]
    }
   ],
   "source": [
    "epochs = 10\n",
    "for epoch in tqdm(range(epochs)):\n",
    "    for x, y in train_dataloader:\n",
    "        preds = model(x)\n",
    "        loss = loss_fn(preds, y)\n",
    "        optimizer.zero_grad()\n",
    "        loss.backward()\n",
    "        optimizer.step()\n",
    "print(loss)"
   ]
  },
  {
   "cell_type": "code",
   "execution_count": 51,
   "metadata": {},
   "outputs": [],
   "source": [
    "import matplotlib.pyplot as plt"
   ]
  },
  {
   "cell_type": "code",
   "execution_count": 80,
   "metadata": {},
   "outputs": [
    {
     "data": {
      "text/plain": [
       "[<matplotlib.lines.Line2D at 0x7f27ee0f7590>]"
      ]
     },
     "execution_count": 80,
     "metadata": {},
     "output_type": "execute_result"
    },
    {
     "data": {
      "image/png": "[encoded data removed]",
      "text/plain": [
       "<Figure size 640x480 with 1 Axes>"
      ]
     },
     "metadata": {},
     "output_type": "display_data"
    }
   ],
   "source": [
    "\n",
    "with torch.inference_mode():\n",
    "    preds = model(test_inputs)\n",
    "\n",
    "\n",
    "plt.plot(preds)\n",
    "plt.plot(test_labels)"
   ]
  },
  {
   "cell_type": "code",
   "execution_count": null,
   "metadata": {},
   "outputs": [],
   "source": []
  },
  {
   "cell_type": "code",
   "execution_count": null,
   "metadata": {},
   "outputs": [],
   "source": []
  },
  {
   "cell_type": "code",
   "execution_count": null,
   "metadata": {},
   "outputs": [],
   "source": []
  },
  {
   "cell_type": "code",
   "execution_count": null,
   "metadata": {},
   "outputs": [],
   "source": []
  },
  {
   "cell_type": "code",
   "execution_count": null,
   "metadata": {},
   "outputs": [],
   "source": []
  },
  {
   "cell_type": "code",
   "execution_count": null,
   "metadata": {},
   "outputs": [],
   "source": []
  },
  {
   "cell_type": "code",
   "execution_count": null,
   "metadata": {},
   "outputs": [],
   "source": []
  },
  {
   "cell_type": "code",
   "execution_count": null,
   "metadata": {},
   "outputs": [],
   "source": []
  },
  {
   "cell_type": "code",
   "execution_count": null,
   "metadata": {},
   "outputs": [],
   "source": []
  },
  {
   "cell_type": "code",
   "execution_count": null,
   "metadata": {},
   "outputs": [],
   "source": []
  },
  {
   "cell_type": "code",
   "execution_count": null,
   "metadata": {},
   "outputs": [],
   "source": []
  },
  {
   "cell_type": "code",
   "execution_count": null,
   "metadata": {},
   "outputs": [],
   "source": []
  },
  {
   "cell_type": "code",
   "execution_count": null,
   "metadata": {},
   "outputs": [],
   "source": []
  },
  {
   "cell_type": "code",
   "execution_count": null,
   "metadata": {},
   "outputs": [],
   "source": []
  }
 ],
 "metadata": {
  "kernelspec": {
   "display_name": "Python 3",
   "language": "python",
   "name": "python3"
  },
  "language_info": {
   "codemirror_mode": {
    "name": "ipython",
    "version": 3
   },
   "file_extension": ".py",
   "mimetype": "text/x-python",
   "name": "python",
   "nbconvert_exporter": "python",
   "pygments_lexer": "ipython3",
   "version": "3.11.6"
  }
 },
 "nbformat": 4,
 "nbformat_minor": 2
}
