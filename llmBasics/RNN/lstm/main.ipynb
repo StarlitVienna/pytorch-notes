{
 "cells": [
  {
   "cell_type": "markdown",
   "metadata": {},
   "source": [
    "### 1 the first stage o a LSTM determines the percentage of the Long-Term Memory that is going to be remembered by combining the short-term memory to the input\n",
    "#### Usually called the **forget gate**"
   ]
  },
  {
   "cell_type": "markdown",
   "metadata": {},
   "source": [
    "### The second stage combines the Short-Term Memory and the input to create a potential long memory and also the percentage of it to add to the Long-Term Memory\n",
    "#### Usually called the **input gate**"
   ]
  },
  {
   "cell_type": "markdown",
   "metadata": {},
   "source": [
    "### The final stages updates the short term memory\n",
    "#### **Output Gate**"
   ]
  },
  {
   "cell_type": "code",
   "execution_count": 2,
   "metadata": {},
   "outputs": [],
   "source": [
    "import torch\n",
    "from torch import nn\n",
    "import torch.nn.functional as F"
   ]
  },
  {
   "cell_type": "code",
   "execution_count": 416,
   "metadata": {},
   "outputs": [],
   "source": [
    "class TorchLSTM(nn.Module):\n",
    "    def __init__(self):\n",
    "        super().__init__()\n",
    "\n",
    "        self.lstm = nn.LSTM(input_size=1, hidden_size=1) #the input is going to go through another nn\n",
    "\n",
    "    def forward(self, inputs):\n",
    "        input_trans = inputs.view(len(inputs), 1) #1 input per row is how the nn.LSTM module takes the inputs in\n",
    "        sm, lm = self.lstm(input_trans)\n",
    "        #print(sm)\n",
    "        #print()\n",
    "        #print(lm)\n",
    "\n",
    "        return sm[-1] #the last short memory output is the prediction for day 5\n",
    "\n"
   ]
  },
  {
   "cell_type": "code",
   "execution_count": 431,
   "metadata": {},
   "outputs": [],
   "source": [
    "model = TorchLSTM()\n",
    "optimizer = torch.optim.AdamW(params=model.parameters(), lr=0.001)\n",
    "loss_fn = nn.L1Loss()"
   ]
  },
  {
   "cell_type": "code",
   "execution_count": 432,
   "metadata": {},
   "outputs": [
    {
     "name": "stdout",
     "output_type": "stream",
     "text": [
      "tensor([[0.0000, 0.5000, 0.2500, 1.0000],\n",
      "        [1.0000, 0.5000, 0.2500, 1.0000]])\n",
      "tensor([0, 1])\n",
      "tensor([0.0000, 0.5000, 0.2500, 1.0000]) tensor([0])\n",
      "tensor([1.0000, 0.5000, 0.2500, 1.0000]) tensor([1])\n"
     ]
    }
   ],
   "source": [
    "from tqdm import tqdm\n",
    "\n",
    "cA_inputs = torch.tensor([0, 0.5, 0.25, 1])\n",
    "cB_inputs = torch.tensor([1, 0.5, 0.25, 1])\n",
    "\n",
    "cA_label = torch.tensor(0)\n",
    "cB_label = torch.tensor(1)\n",
    "\n",
    "inputs = torch.stack((cA_inputs, cB_inputs))\n",
    "labels = torch.stack((cA_label, cB_label))\n",
    "print(inputs)\n",
    "print(labels)\n",
    "\n",
    "dataset = torch.utils.data.TensorDataset(inputs, labels)\n",
    "dataloader = torch.utils.data.DataLoader(dataset=dataset, batch_size=1)\n",
    "\n",
    "for x, y in dataloader:\n",
    "    print(x[0], y)"
   ]
  },
  {
   "cell_type": "code",
   "execution_count": 458,
   "metadata": {},
   "outputs": [
    {
     "name": "stderr",
     "output_type": "stream",
     "text": [
      "100%|██████████| 3000/3000 [00:04<00:00, 627.64it/s]"
     ]
    },
    {
     "name": "stdout",
     "output_type": "stream",
     "text": [
      "tensor(0.1066, grad_fn=<MeanBackward0>)\n"
     ]
    },
    {
     "name": "stderr",
     "output_type": "stream",
     "text": [
      "\n"
     ]
    }
   ],
   "source": [
    "epochs = 3000\n",
    "\n",
    "model.train()\n",
    "for epoch in tqdm(range(epochs)):\n",
    "    for x, y in dataloader:\n",
    "        pred = model(x[0])\n",
    "        loss = loss_fn(pred, y)\n",
    "        optimizer.zero_grad()\n",
    "        loss.backward()\n",
    "        optimizer.step()\n",
    "model.eval()\n",
    "print(loss)"
   ]
  },
  {
   "cell_type": "code",
   "execution_count": 415,
   "metadata": {},
   "outputs": [
    {
     "name": "stdout",
     "output_type": "stream",
     "text": [
      "tensor([0.0111]) tensor(0)\n",
      "tensor([0.9962]) tensor(0)\n"
     ]
    }
   ],
   "source": [
    "with torch.inference_mode():\n",
    "    cA_pred = model(torch.tensor([0, 0.5, 0.25, 1.]))\n",
    "    cB_pred = model(torch.tensor([1, 0.5, 0.25, 1.]))\n",
    "\n",
    "print(cA_pred, cA_label)\n",
    "print(cB_pred, cA_label)"
   ]
  },
  {
   "cell_type": "code",
   "execution_count": 95,
   "metadata": {},
   "outputs": [],
   "source": [
    "####### There is something wrong with it\n",
    "class LSTMbyHand(nn.Module):\n",
    "    def __init__(self):\n",
    "        super().__init__()\n",
    "\n",
    "\n",
    "        #Forget gate\n",
    "        self.wlr1 = nn.Parameter(torch.randn(1), requires_grad=True) #sm weight\n",
    "        self.wlr2 = nn.Parameter(torch.randn(1), requires_grad=True) #input weight\n",
    "        self.blr1 = nn.Parameter(torch.tensor(0.), requires_grad=True)\n",
    "\n",
    "        #Input gate\n",
    "        self.wpr1 = nn.Parameter(torch.randn(1), requires_grad=True)\n",
    "        self.wpr2 = nn.Parameter(torch.randn(1), requires_grad=True)\n",
    "        self.bpr1 = nn.Parameter(torch.tensor(0.), requires_grad=True)\n",
    "\n",
    "\n",
    "        self.wp1 = nn.Parameter(torch.randn(1), requires_grad=True)\n",
    "        self.wp2 = nn.Parameter(torch.randn(1), requires_grad=True)\n",
    "        self.bp1 = nn.Parameter(torch.tensor(0.), requires_grad=True)\n",
    "\n",
    "        #Output gate\n",
    "        self.wo1 = nn.Parameter(torch.randn(1), requires_grad=True)\n",
    "        self.wo2 = nn.Parameter(torch.randn(1), requires_grad=True)\n",
    "        self.bo1 = nn.Parameter(torch.tensor(0.), requires_grad=True)\n",
    "\n",
    "\n",
    "\n",
    "    #lstm_unit handles all the math\n",
    "    def lstm_unit(self, input, lm, sm):\n",
    "        long_remember_percent = torch.sigmoid(\n",
    "            (sm*self.wlr1) + (input*self.wlr2) + self.blr1\n",
    "        )\n",
    "\n",
    "        remembered_lm = lm*long_remember_percent\n",
    "\n",
    "        pontential_lm_remember_percent = torch.sigmoid(\n",
    "            (sm*self.wpr1) + (input*self.wpr2) + self.bpr1\n",
    "        )\n",
    "\n",
    "        potential_lm = torch.tanh(\n",
    "            (sm*self.wp1) + (input*self.wp2) + self.bp1\n",
    "        )\n",
    "\n",
    "        new_lm = remembered_lm + potential_lm\n",
    "\n",
    "\n",
    "        potential_sm_remember_percent = torch.sigmoid(\n",
    "            (sm*self.wo1) + (input*self.wo2)+ self.bo1\n",
    "        )\n",
    "\n",
    "\n",
    "        new_sm = torch.tanh(new_lm) * potential_sm_remember_percent\n",
    "\n",
    "\n",
    "        return (new_sm, new_sm)\n",
    "\n",
    "\n",
    "    \n",
    "    def forward(self, inputs):\n",
    "        lm = torch.tensor(0)\n",
    "        sm = torch.tensor(0)\n",
    "\n",
    "        day1, day2, day3, day4 = inputs[0] #passing in batches\n",
    "\n",
    "\n",
    "        lm, sm = self.lstm_unit(day1, lm, sm)\n",
    "        lm, sm = self.lstm_unit(day2, lm, sm)\n",
    "        lm, sm = self.lstm_unit(day3, lm, sm)\n",
    "        lm, sm = self.lstm_unit(day4, lm, sm)\n",
    "    \n",
    "        return sm"
   ]
  },
  {
   "cell_type": "code",
   "execution_count": 226,
   "metadata": {},
   "outputs": [
    {
     "name": "stdout",
     "output_type": "stream",
     "text": [
      "tensor([[0.0000, 0.5000, 0.2500, 1.0000],\n",
      "        [1.0000, 0.5000, 0.2500, 1.0000]])\n",
      "tensor([0, 1])\n"
     ]
    }
   ],
   "source": [
    "from tqdm import tqdm\n",
    "\n",
    "model = LSTMbyHand()\n",
    "\n",
    "cA_inputs = torch.tensor([0, 0.5, 0.25, 1])\n",
    "cB_inputs = torch.tensor([1, 0.5, 0.25, 1])\n",
    "\n",
    "cA_label = torch.tensor(0)\n",
    "cB_label = torch.tensor(1)\n",
    "\n",
    "inputs = torch.stack((cA_inputs, cB_inputs))\n",
    "labels = torch.stack((cA_label, cB_label))\n",
    "print(inputs)\n",
    "print(labels)\n",
    "\n",
    "dataset = torch.utils.data.TensorDataset(inputs, labels)\n",
    "dataloader = torch.utils.data.DataLoader(dataset=dataset, batch_size=1, shuffle=True)\n",
    "\n",
    "loss_fn = nn.L1Loss()\n",
    "optimizer = torch.optim.Adam(params=model.parameters(), lr=0.001)\n",
    "\n",
    "model.eval()\n",
    "with torch.inference_mode():\n",
    "    pred = model([cA_inputs])"
   ]
  },
  {
   "cell_type": "code",
   "execution_count": 245,
   "metadata": {},
   "outputs": [
    {
     "name": "stderr",
     "output_type": "stream",
     "text": [
      "100%|██████████| 10/10 [00:00<00:00, 237.53it/s]"
     ]
    },
    {
     "name": "stdout",
     "output_type": "stream",
     "text": [
      "tensor(0.0048, grad_fn=<MeanBackward0>)\n"
     ]
    },
    {
     "name": "stderr",
     "output_type": "stream",
     "text": [
      "\n"
     ]
    }
   ],
   "source": [
    "epochs = 10\n",
    "\n",
    "model.train()\n",
    "for epoch in tqdm(range(epochs)):\n",
    "    for x, y in dataloader:\n",
    "        preds = model(x)\n",
    "        loss = loss_fn(preds, y)\n",
    "        optimizer.zero_grad()\n",
    "        loss.backward()\n",
    "        optimizer.step()\n",
    "model.eval()\n",
    "\n",
    "print(loss)"
   ]
  },
  {
   "cell_type": "code",
   "execution_count": 249,
   "metadata": {},
   "outputs": [
    {
     "name": "stdout",
     "output_type": "stream",
     "text": [
      "tensor([0.0047])\n",
      "tensor([-0.0159])\n"
     ]
    }
   ],
   "source": [
    "with torch.inference_mode():\n",
    "    cA_pred = model([cA_inputs]) #have to pass in as batches\n",
    "    cB_pred = model([cB_inputs])\n",
    "\n",
    "print(cA_pred)\n",
    "print(cB_pred)"
   ]
  },
  {
   "cell_type": "code",
   "execution_count": null,
   "metadata": {},
   "outputs": [],
   "source": []
  },
  {
   "cell_type": "code",
   "execution_count": null,
   "metadata": {},
   "outputs": [],
   "source": []
  },
  {
   "cell_type": "code",
   "execution_count": null,
   "metadata": {},
   "outputs": [],
   "source": []
  },
  {
   "cell_type": "code",
   "execution_count": null,
   "metadata": {},
   "outputs": [],
   "source": []
  }
 ],
 "metadata": {
  "kernelspec": {
   "display_name": "Python 3",
   "language": "python",
   "name": "python3"
  },
  "language_info": {
   "codemirror_mode": {
    "name": "ipython",
    "version": 3
   },
   "file_extension": ".py",
   "mimetype": "text/x-python",
   "name": "python",
   "nbconvert_exporter": "python",
   "pygments_lexer": "ipython3",
   "version": "3.11.6"
  }
 },
 "nbformat": 4,
 "nbformat_minor": 2
}
