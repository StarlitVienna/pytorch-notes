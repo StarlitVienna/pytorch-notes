{
 "cells": [
  {
   "cell_type": "code",
   "execution_count": 2,
   "metadata": {},
   "outputs": [],
   "source": [
    "#https://www.youtube.com/watch?v=AsNTP8Kwu80\n",
    "#Basic RNN model from statquest video\n",
    "#Implementation using pytorch\n",
    "\n",
    "import torch\n",
    "from torch import nn\n",
    "import torch.nn.functional as F"
   ]
  },
  {
   "cell_type": "code",
   "execution_count": 5,
   "metadata": {},
   "outputs": [],
   "source": [
    "low = 0\n",
    "medium = 0.5\n",
    "high = 1\n",
    "\n",
    "#Inputs design --> yesterday, today\n",
    "\n",
    "inputs = torch.tensor(\n",
    "    [\n",
    "        [low, low],\n",
    "        [low, medium],\n",
    "        [low, low],\n",
    "        [high, medium],\n",
    "        [high, high],\n",
    "        [medium, medium]\n",
    "    ]\n",
    ")\n",
    "\n",
    "labels = torch.tensor(\n",
    "    [\n",
    "        [low],\n",
    "        [high],\n",
    "        [low],\n",
    "        [low],\n",
    "        [high],\n",
    "        [medium]\n",
    "    ]\n",
    ")\n",
    "\n"
   ]
  },
  {
   "cell_type": "code",
   "execution_count": 30,
   "metadata": {},
   "outputs": [
    {
     "name": "stdout",
     "output_type": "stream",
     "text": [
      "tensor(0.)\n"
     ]
    }
   ],
   "source": [
    "#NN\n",
    "\n",
    "idx = 1\n",
    "\n",
    "act_fn = nn.ReLU()\n",
    "input1 = inputs[idx][0] #Yesterday\n",
    "\n",
    "w1 = torch.tensor(1.8)\n",
    "b1 = 0\n",
    "\n",
    "out1 = act_fn(input1 * w1 + b1)\n",
    "print(out1)\n"
   ]
  },
  {
   "cell_type": "code",
   "execution_count": 31,
   "metadata": {},
   "outputs": [
    {
     "name": "stdout",
     "output_type": "stream",
     "text": [
      "tensor(0.)\n"
     ]
    }
   ],
   "source": [
    "#Predicted for today\n",
    "w3 = torch.tensor(1.1)\n",
    "b2 = torch.tensor(0)\n",
    "\n",
    "out2 = out1 * w3 + b3\n",
    "print(out2)\n"
   ]
  },
  {
   "cell_type": "code",
   "execution_count": 35,
   "metadata": {},
   "outputs": [
    {
     "name": "stdout",
     "output_type": "stream",
     "text": [
      "0.9900000095367432\n",
      "expected --> 1.0\n"
     ]
    }
   ],
   "source": [
    "#take in todays value\n",
    "today = inputs[idx][1]\n",
    "w2 = torch.tensor(-0.5)\n",
    "\n",
    "feed_back_out = out1 * w2\n",
    "\n",
    "out3 = act_fn((today * w1 + b1) + feed_back_out)\n",
    "\n",
    "tomorrow = out3 * w3 + b2\n",
    "\n",
    "print(tomorrow.item())\n",
    "print(f\"expected --> {labels[idx].item()}\")"
   ]
  },
  {
   "cell_type": "code",
   "execution_count": 128,
   "metadata": {},
   "outputs": [
    {
     "name": "stdout",
     "output_type": "stream",
     "text": [
      "tensor([[-0.6594]], grad_fn=<AddmmBackward0>)\n"
     ]
    },
    {
     "name": "stderr",
     "output_type": "stream",
     "text": [
      "/tmp/ipykernel_5850/1110135675.py:22: UserWarning: To copy construct from a tensor, it is recommended to use sourceTensor.clone().detach() or sourceTensor.clone().detach().requires_grad_(True), rather than torch.tensor(sourceTensor).\n",
      "  inputs = torch.tensor(inputs)\n",
      "/tmp/ipykernel_5850/1110135675.py:23: UserWarning: To copy construct from a tensor, it is recommended to use sourceTensor.clone().detach() or sourceTensor.clone().detach().requires_grad_(True), rather than torch.tensor(sourceTensor).\n",
      "  labels = torch.tensor(labels)\n"
     ]
    }
   ],
   "source": [
    "class BasicRNN(nn.Module):\n",
    "    def __init__(self):\n",
    "        super().__init__()\n",
    "\n",
    "        self.rnn = nn.RNN(\n",
    "            input_size=2,\n",
    "            hidden_size=1,\n",
    "            num_layers=1,\n",
    "            nonlinearity='relu',\n",
    "            bias=True,\n",
    "            batch_first=False #just asking if the batch size is the first dimension of the tensor\n",
    "            )\n",
    "\n",
    "        self.fc = nn.Linear(in_features=1, out_features=1)\n",
    "\n",
    "    def forward(self, x):\n",
    "        return self.fc(self.rnn(x)[0])\n",
    "\n",
    "rnn = BasicRNN()\n",
    "\n",
    "\n",
    "inputs = torch.tensor(inputs)\n",
    "labels = torch.tensor(labels)\n",
    "\n",
    "optimizer = torch.optim.SGD(params=rnn.parameters(), lr=0.1)\n",
    "loss_fn = nn.L1Loss()\n",
    "\n",
    "epochs = 1\n",
    "for epoch in range(epochs):\n",
    "    preds = rnn(inputs)\n",
    "    loss = loss_fn(preds, labels)\n",
    "    optimizer.zero_grad()\n",
    "    loss.backward()\n",
    "    optimizer.step()\n",
    "\n",
    "test = rnn(torch.tensor([[0, 0.5]])) #expcted 1 as a result\n",
    "print(test)\n",
    "\n",
    "\n",
    "\n"
   ]
  },
  {
   "cell_type": "code",
   "execution_count": null,
   "metadata": {},
   "outputs": [],
   "source": []
  },
  {
   "cell_type": "code",
   "execution_count": null,
   "metadata": {},
   "outputs": [],
   "source": []
  },
  {
   "cell_type": "code",
   "execution_count": null,
   "metadata": {},
   "outputs": [],
   "source": []
  }
 ],
 "metadata": {
  "kernelspec": {
   "display_name": "Python 3",
   "language": "python",
   "name": "python3"
  },
  "language_info": {
   "codemirror_mode": {
    "name": "ipython",
    "version": 3
   },
   "file_extension": ".py",
   "mimetype": "text/x-python",
   "name": "python",
   "nbconvert_exporter": "python",
   "pygments_lexer": "ipython3",
   "version": "3.11.6"
  }
 },
 "nbformat": 4,
 "nbformat_minor": 2
}
