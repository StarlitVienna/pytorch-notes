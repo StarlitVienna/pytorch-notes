{
 "cells": [
  {
   "cell_type": "code",
   "execution_count": 18,
   "metadata": {},
   "outputs": [],
   "source": [
    "import torch\n",
    "import torch.nn as nn"
   ]
  },
  {
   "cell_type": "code",
   "execution_count": 6,
   "metadata": {},
   "outputs": [],
   "source": [
    "device = \"cuda\" if torch.cuda.is_available() else \"cpu\"\n",
    "torch.set_default_device(device)"
   ]
  },
  {
   "cell_type": "code",
   "execution_count": 9,
   "metadata": {},
   "outputs": [
    {
     "name": "stdout",
     "output_type": "stream",
     "text": [
      "cuda\n",
      "tensor([[1., 1., 1.],\n",
      "        [1., 1., 1.]], device='cuda:0')\n"
     ]
    }
   ],
   "source": [
    "print(device)\n",
    "print(torch.ones((2, 3)))"
   ]
  },
  {
   "cell_type": "code",
   "execution_count": 11,
   "metadata": {},
   "outputs": [
    {
     "name": "stdout",
     "output_type": "stream",
     "text": [
      "tensor([[1, 2, 3],\n",
      "        [4, 5, 6],\n",
      "        [7, 8, 9]], device='cuda:0')\n"
     ]
    }
   ],
   "source": [
    "tensora = torch.tensor([1, 2, 3])\n",
    "tensorb = torch.tensor([4, 5, 6])\n",
    "tensorc = torch.tensor([7, 8, 9])\n",
    "print(torch.stack((tensora, tensorb, tensorc)))"
   ]
  },
  {
   "cell_type": "code",
   "execution_count": 28,
   "metadata": {},
   "outputs": [
    {
     "name": "stdout",
     "output_type": "stream",
     "text": [
      "tensor([[-0.9593, -0.4157,  0.9850, -0.1516],\n",
      "        [-2.3875,  0.9092,  0.1652,  1.9316]], device='cuda:0')\n",
      "tensor([[0.8066, 0.2100, 0.6942, 0.1107],\n",
      "        [0.1934, 0.7900, 0.3058, 0.8893]], device='cuda:0')\n",
      "tensor([[0.0837, 0.1441, 0.5846, 0.1876],\n",
      "        [0.0086, 0.2330, 0.1107, 0.6477]], device='cuda:0')\n"
     ]
    }
   ],
   "source": [
    "tensor = torch.randn((2, 4))\n",
    "print(tensor)\n",
    "print(torch.softmax(tensor, dim=0))\n",
    "print(torch.softmax(tensor, dim=1))"
   ]
  },
  {
   "cell_type": "markdown",
   "metadata": {},
   "source": [
    "Embeddings"
   ]
  },
  {
   "cell_type": "markdown",
   "metadata": {},
   "source": []
  }
 ],
 "metadata": {
  "kernelspec": {
   "display_name": "Python 3",
   "language": "python",
   "name": "python3"
  },
  "language_info": {
   "codemirror_mode": {
    "name": "ipython",
    "version": 3
   },
   "file_extension": ".py",
   "mimetype": "text/x-python",
   "name": "python",
   "nbconvert_exporter": "python",
   "pygments_lexer": "ipython3",
   "version": "3.11.6"
  }
 },
 "nbformat": 4,
 "nbformat_minor": 2
}
