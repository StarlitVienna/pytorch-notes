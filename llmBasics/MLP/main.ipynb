{
 "cells": [
  {
   "cell_type": "markdown",
   "metadata": {},
   "source": [
    "MLP --> Multilayer Perceptron"
   ]
  },
  {
   "cell_type": "code",
   "execution_count": 3,
   "metadata": {},
   "outputs": [
    {
     "name": "stdout",
     "output_type": "stream",
     "text": [
      "cuda\n"
     ]
    }
   ],
   "source": [
    "import torch\n",
    "from torch import nn\n",
    "import torch.nn.functional as F\n",
    "\n",
    "device = \"cuda\" if torch.cuda.is_available() else \"cpu\"\n",
    "torch.set_default_device(device)\n",
    "print(device)"
   ]
  },
  {
   "cell_type": "markdown",
   "metadata": {},
   "source": [
    "Generate data (or rather organize it)"
   ]
  },
  {
   "cell_type": "code",
   "execution_count": null,
   "metadata": {},
   "outputs": [],
   "source": [
    "with open(\"names.txt\", 'r', encoding=\"UTF-8\") as f:\n",
    "    text = f.read()\n",
    "    words = text.splitlines()\n",
    "    chars = sorted(set(\"\".join(words)))\n",
    "\n",
    "stoi = {char:integer+1 for integer,char in enumerate(chars)}\n",
    "itos = {integer+1:char for integer,char in enumerate(chars)}\n",
    "\n",
    "stoi[\".\"] = 0\n",
    "itos[0] = \".\"\n"
   ]
  },
  {
   "cell_type": "code",
   "execution_count": null,
   "metadata": {},
   "outputs": [
    {
     "name": "stdout",
     "output_type": "stream",
     "text": [
      "[2, 3, 5]\n"
     ]
    }
   ],
   "source": [
    "test_list = [1, 2, 3]\n",
    "print(test_list[1:] + [5])\n",
    "#test_list[1:] basically gets all elements besides the first\n",
    "#+ [5] and an element 5 to the list\n",
    "#with that you can add an element to the list while removing the first one and moving all the rest to the left"
   ]
  },
  {
   "cell_type": "code",
   "execution_count": null,
   "metadata": {},
   "outputs": [
    {
     "ename": "NameError",
     "evalue": "name 'words' is not defined",
     "output_type": "error",
     "traceback": [
      "\u001b[0;31m---------------------------------------------------------------------------\u001b[0m",
      "\u001b[0;31mNameError\u001b[0m                                 Traceback (most recent call last)",
      "\u001b[1;32m/home/evie/torching/llmBasics/MLP/main.ipynb Cell 6\u001b[0m line \u001b[0;36m3\n\u001b[1;32m      <a href='vscode-notebook-cell:/home/evie/torching/llmBasics/MLP/main.ipynb#W5sZmlsZQ%3D%3D?line=0'>1</a>\u001b[0m block_size \u001b[39m=\u001b[39m \u001b[39m3\u001b[39m \u001b[39m#How many characters of context is passed through the neural network\u001b[39;00m\n\u001b[1;32m      <a href='vscode-notebook-cell:/home/evie/torching/llmBasics/MLP/main.ipynb#W5sZmlsZQ%3D%3D?line=1'>2</a>\u001b[0m inputs, labels \u001b[39m=\u001b[39m [], []\n\u001b[0;32m----> <a href='vscode-notebook-cell:/home/evie/torching/llmBasics/MLP/main.ipynb#W5sZmlsZQ%3D%3D?line=2'>3</a>\u001b[0m \u001b[39mfor\u001b[39;00m w \u001b[39min\u001b[39;00m words[:\u001b[39m1\u001b[39m]:\n\u001b[1;32m      <a href='vscode-notebook-cell:/home/evie/torching/llmBasics/MLP/main.ipynb#W5sZmlsZQ%3D%3D?line=3'>4</a>\u001b[0m     context \u001b[39m=\u001b[39m [\u001b[39m0\u001b[39m] \u001b[39m*\u001b[39m block_size\n\u001b[1;32m      <a href='vscode-notebook-cell:/home/evie/torching/llmBasics/MLP/main.ipynb#W5sZmlsZQ%3D%3D?line=4'>5</a>\u001b[0m     \u001b[39mfor\u001b[39;00m ch \u001b[39min\u001b[39;00m w \u001b[39m+\u001b[39m \u001b[39m'\u001b[39m\u001b[39m.\u001b[39m\u001b[39m'\u001b[39m:\n",
      "\u001b[0;31mNameError\u001b[0m: name 'words' is not defined"
     ]
    }
   ],
   "source": [
    "block_size = 3 #How many characters of context is passed through the neural network\n",
    "inputs, labels = [], []\n",
    "for w in words[:1]:\n",
    "    context = [0] * block_size\n",
    "    for ch in w + '.':\n",
    "        ix = stoi[ch]\n",
    "        inputs.append(context)\n",
    "        labels.append(ix)\n",
    "        context = context[1:] + [ix]\n",
    "        #print(context[1:]+[ix])\n",
    "\n",
    "inputs = torch.tensor(inputs)\n",
    "labels = torch.tensor(labels)\n",
    "\n",
    "print(inputs)\n",
    "print(labels)"
   ]
  },
  {
   "cell_type": "code",
   "execution_count": null,
   "metadata": {},
   "outputs": [
    {
     "name": "stdout",
     "output_type": "stream",
     "text": [
      "tensor([0., 0., 0., 0., 0., 1., 0., 0., 0., 0., 0., 0., 0., 0., 0., 0., 0., 0.,\n",
      "        0., 0., 0., 0., 0., 0., 0., 0., 0.], device='cuda:0')\n",
      "tensor([-0.1538, -1.4984], device='cuda:0')\n",
      "tensor([-0.1538, -1.4984], device='cuda:0')\n"
     ]
    }
   ],
   "source": [
    "one_hot_test = F.one_hot(torch.tensor(5), num_classes=27).type(torch.float)\n",
    "print(one_hot_test)\n",
    "C = torch.randn((27,2))\n",
    "print(one_hot_test @ C)\n",
    "#The same as print(C[5])\n",
    "print(C[5])"
   ]
  },
  {
   "cell_type": "code",
   "execution_count": null,
   "metadata": {},
   "outputs": [
    {
     "name": "stdout",
     "output_type": "stream",
     "text": [
      "tensor([[ 0.7981, -0.0783],\n",
      "        [ 0.3485, -1.2172],\n",
      "        [ 0.7550, -1.0599],\n",
      "        [ 0.0894,  1.7146],\n",
      "        [-0.0593,  0.6477],\n",
      "        [-0.1538, -1.4984],\n",
      "        [-0.4471, -1.7794],\n",
      "        [-0.9464,  0.3930],\n",
      "        [ 1.1104, -0.3061],\n",
      "        [ 0.3065, -0.2680],\n",
      "        [-0.1490, -0.8429],\n",
      "        [-0.3086,  0.0465],\n",
      "        [ 0.0498,  0.2474],\n",
      "        [-0.0670,  0.0459],\n",
      "        [-0.6095, -1.0004],\n",
      "        [ 1.4939,  1.1517],\n",
      "        [ 1.1654, -0.5093],\n",
      "        [ 1.9525, -0.2488],\n",
      "        [ 1.0903,  0.2725],\n",
      "        [-1.4784, -1.2951],\n",
      "        [-1.4499, -0.0773],\n",
      "        [ 1.2361, -1.4450],\n",
      "        [ 0.8990, -0.4989],\n",
      "        [ 0.3128, -0.4102],\n",
      "        [-1.5923, -1.1982],\n",
      "        [-0.5754, -2.1554],\n",
      "        [ 2.8619,  0.9979]], device='cuda:0')\n"
     ]
    }
   ],
   "source": [
    "print(C)"
   ]
  },
  {
   "cell_type": "code",
   "execution_count": null,
   "metadata": {},
   "outputs": [
    {
     "name": "stdout",
     "output_type": "stream",
     "text": [
      "tensor([[ 0.7981, -0.0783],\n",
      "        [ 0.3485, -1.2172],\n",
      "        [ 0.7550, -1.0599],\n",
      "        [ 0.7550, -1.0599],\n",
      "        [ 0.7550, -1.0599],\n",
      "        [ 0.7550, -1.0599]], device='cuda:0')\n"
     ]
    }
   ],
   "source": [
    "print(C[[0, 1, 2, 2, 2, 2]])"
   ]
  },
  {
   "cell_type": "code",
   "execution_count": null,
   "metadata": {},
   "outputs": [
    {
     "name": "stdout",
     "output_type": "stream",
     "text": [
      "torch.Size([32, 3])\n",
      "torch.Size([32, 3, 2])\n"
     ]
    }
   ],
   "source": [
    "print(inputs.shape)\n",
    "embedding_tensor = C[inputs]\n",
    "print(embedding_tensor.shape)"
   ]
  },
  {
   "cell_type": "code",
   "execution_count": null,
   "metadata": {},
   "outputs": [
    {
     "name": "stdout",
     "output_type": "stream",
     "text": [
      "tensor(1, device='cuda:0')\n",
      "It's embedding is --> tensor([ 0.3485, -1.2172], device='cuda:0')\n",
      "torch.Size([32, 3, 2])\n"
     ]
    }
   ],
   "source": [
    "print(inputs[13, 2])\n",
    "print(f\"It's embedding is --> {C[inputs][13, 2]}\")\n",
    "print(embedding_tensor.shape)"
   ]
  },
  {
   "cell_type": "code",
   "execution_count": null,
   "metadata": {},
   "outputs": [
    {
     "name": "stdout",
     "output_type": "stream",
     "text": [
      "tensor([[-1.2243,  0.6019,  1.9300,  ..., -2.3778, -2.5337, -0.0449],\n",
      "        [-1.0235, -1.4281,  2.4067,  ..., -3.0274, -0.5796, -0.0302],\n",
      "        [-2.6114,  0.9983,  1.3733,  ..., -4.8258, -1.7975, -0.2736],\n",
      "        ...,\n",
      "        [-0.3432,  4.6050,  0.6647,  ..., -3.5701, -3.1829,  0.0409],\n",
      "        [-1.9055,  0.3213,  2.5429,  ..., -4.2802, -2.5021, -0.4322],\n",
      "        [-0.8311, -1.5839,  2.3990,  ..., -3.1695, -2.0122,  0.0398]],\n",
      "       device='cuda:0')\n"
     ]
    }
   ],
   "source": [
    "W1 = torch.randn((3*2, 100))\n",
    "b1 = torch.randn(100)\n",
    "\n",
    "#torch.cat(torch.unbind(embedding_tensor, 1), 1)\n",
    "#embedding_tensor.view(32, 6)\n",
    "\n",
    "hidden_layer = embedding_tensor.view(embedding_tensor.shape[0], 6) @ W1 + b1\n",
    "print(hidden_layer)"
   ]
  }
 ],
 "metadata": {
  "kernelspec": {
   "display_name": "Python 3",
   "language": "python",
   "name": "python3"
  },
  "language_info": {
   "codemirror_mode": {
    "name": "ipython",
    "version": 3
   },
   "file_extension": ".py",
   "mimetype": "text/x-python",
   "name": "python",
   "nbconvert_exporter": "python",
   "pygments_lexer": "ipython3",
   "version": "2.7.0"
  }
 },
 "nbformat": 4,
 "nbformat_minor": 2
}
