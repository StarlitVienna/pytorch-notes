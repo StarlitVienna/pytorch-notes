{
 "cells": [
  {
   "cell_type": "code",
   "execution_count": 1,
   "metadata": {},
   "outputs": [],
   "source": [
    "import torch\n",
    "from torch import nn\n",
    "import lightning as L\n",
    "import pandas as pd\n",
    "import matplotlib.pyplot as plt"
   ]
  },
  {
   "cell_type": "code",
   "execution_count": 2,
   "metadata": {},
   "outputs": [],
   "source": [
    "vocab = [\"troll 2\", \"is\", \"great\", 'gymkata']\n",
    "inputs = [\"Troll 2 is great!\", \"Gymkata is great!\"]\n",
    "\n",
    "#one hot encoding for each word\n",
    "inputs = torch.tensor([\n",
    "    [1, 0, 0, 0],\n",
    "    [0, 1, 0, 0],\n",
    "    [0, 0, 1, 0],\n",
    "    [0, 0, 0, 1]\n",
    "])\n",
    "\n",
    "labels = torch.tensor([\n",
    "    [0, 1, 0, 0], #If input is troll 2, expect is as the output\n",
    "    [0, 0, 1, 0],\n",
    "    [0, 0, 0, 1],\n",
    "    [0, 1, 0, 0] #If input is gymkata, expect is as the output\n",
    "])\n"
   ]
  },
  {
   "cell_type": "code",
   "execution_count": 3,
   "metadata": {},
   "outputs": [],
   "source": [
    "dataset = torch.utils.data.TensorDataset(inputs, labels)\n",
    "dataloader = torch.utils.data.DataLoader(dataset=dataset, shuffle=True, batch_size=1)"
   ]
  },
  {
   "cell_type": "code",
   "execution_count": 4,
   "metadata": {},
   "outputs": [],
   "source": [
    "class WordEmbeddingfromScratch(nn.Module):\n",
    "    def __init__(self):\n",
    "        super(WordEmbeddingfromScratch, self).__init__()\n",
    "\n",
    "        self.input1w1 = nn.Parameter(torch.randn(1))\n",
    "        self.input1w2 = nn.Parameter(torch.randn(1))\n",
    "\n",
    "\n",
    "        self.input2w1 = nn.Parameter(torch.randn(1))\n",
    "        self.input2w2 = nn.Parameter(torch.randn(1))\n",
    "\n",
    "\n",
    "        self.input3w1 = nn.Parameter(torch.randn(1))\n",
    "        self.input3w2 = nn.Parameter(torch.randn(1))\n",
    "\n",
    "\n",
    "        self.input4w1 = nn.Parameter(torch.randn(1))\n",
    "        self.input4w2 = nn.Parameter(torch.randn(1))\n",
    "\n",
    "\n",
    "\n",
    "        self.output1w1 = nn.Parameter(torch.randn(1))\n",
    "        self.output1w2 = nn.Parameter(torch.randn(1))\n",
    "\n",
    "\n",
    "        self.output2w1 = nn.Parameter(torch.randn(1))\n",
    "        self.output2w2 = nn.Parameter(torch.randn(1))\n",
    "\n",
    "\n",
    "        self.output3w1 = nn.Parameter(torch.randn(1))\n",
    "        self.output3w2 = nn.Parameter(torch.randn(1))\n",
    "\n",
    "\n",
    "        self.output4w1 = nn.Parameter(torch.randn(1))\n",
    "        self.output4w2 = nn.Parameter(torch.randn(1))\n",
    "   \n",
    "    def forward(self, x):\n",
    "        input = x[0]\n",
    "\n",
    "        inputs_top_hidden = (\n",
    "            (input[0] * self.input1w1)+\n",
    "            (input[1] * self.input2w1)+\n",
    "            (input[2] * self.input3w1)+\n",
    "            (input[3] * self.input4w1)\n",
    "        )\n",
    "\n",
    "        inputs_bottom_hidden = (\n",
    "            (input[0] * self.input1w1)+\n",
    "            (input[1] * self.input2w1)+\n",
    "            (input[2] * self.input3w1)+\n",
    "            (input[3] * self.input4w1)\n",
    "        )\n",
    "\n",
    "\n",
    "        output1 = (inputs_top_hidden * self.output1w1) + (inputs_top_hidden * self.output1w2)\n",
    "        output2 = (inputs_top_hidden * self.output2w1) + (inputs_top_hidden * self.output2w2)\n",
    "        output3 = (inputs_top_hidden * self.output3w1) + (inputs_top_hidden * self.output3w2)\n",
    "        output4 = (inputs_top_hidden * self.output4w1) + (inputs_top_hidden * self.output4w2)\n",
    "\n",
    "        output_presoftmax = torch.stack([output1, output2, output3, output4], dim=1)\n",
    "        return output_presoftmax"
   ]
  },
  {
   "cell_type": "code",
   "execution_count": 5,
   "metadata": {},
   "outputs": [],
   "source": [
    "from tqdm import tqdm\n",
    "model = WordEmbeddingfromScratch()\n",
    "optimizer = torch.optim.AdamW(params=model.parameters(), lr=0.1)\n",
    "loss_fn = nn.CrossEntropyLoss()"
   ]
  },
  {
   "cell_type": "code",
   "execution_count": 6,
   "metadata": {},
   "outputs": [
    {
     "name": "stderr",
     "output_type": "stream",
     "text": [
      " 21%|██        | 21/100 [00:00<00:00, 103.04it/s]"
     ]
    },
    {
     "name": "stderr",
     "output_type": "stream",
     "text": [
      "100%|██████████| 100/100 [00:00<00:00, 152.50it/s]"
     ]
    },
    {
     "name": "stdout",
     "output_type": "stream",
     "text": [
      "tensor(0.8697, grad_fn=<DivBackward1>)\n"
     ]
    },
    {
     "name": "stderr",
     "output_type": "stream",
     "text": [
      "\n"
     ]
    }
   ],
   "source": [
    "epochs = 100\n",
    "\n",
    "for epochs in tqdm(range(epochs)):\n",
    "    for x, y in dataloader:\n",
    "        logits = model(x)\n",
    "        loss = loss_fn(logits, y.type(torch.float32))\n",
    "        optimizer.zero_grad()\n",
    "        loss.backward()\n",
    "        optimizer.step()\n",
    "print(loss)"
   ]
  },
  {
   "cell_type": "code",
   "execution_count": 7,
   "metadata": {},
   "outputs": [
    {
     "name": "stdout",
     "output_type": "stream",
     "text": [
      "tensor(0)\n",
      "Input --> troll 2\n",
      "troll 2\n"
     ]
    }
   ],
   "source": [
    "input = torch.tensor([[0, 0, 0, 0]])\n",
    "with torch.inference_mode():\n",
    "    logits = model(input)\n",
    "    probs = torch.softmax(logits, dim=1)\n",
    "    preds = torch.argmax(probs)\n",
    "print(preds)\n",
    "print(f\"Input --> {vocab[torch.argmax(input)]}\")\n",
    "print(vocab[preds])"
   ]
  },
  {
   "cell_type": "code",
   "execution_count": 8,
   "metadata": {},
   "outputs": [],
   "source": [
    "import seaborn as sns"
   ]
  },
  {
   "cell_type": "code",
   "execution_count": 9,
   "metadata": {},
   "outputs": [
    {
     "data": {
      "text/html": [
       "<div>\n",
       "<style scoped>\n",
       "    .dataframe tbody tr th:only-of-type {\n",
       "        vertical-align: middle;\n",
       "    }\n",
       "\n",
       "    .dataframe tbody tr th {\n",
       "        vertical-align: top;\n",
       "    }\n",
       "\n",
       "    .dataframe thead th {\n",
       "        text-align: right;\n",
       "    }\n",
       "</style>\n",
       "<table border=\"1\" class=\"dataframe\">\n",
       "  <thead>\n",
       "    <tr style=\"text-align: right;\">\n",
       "      <th></th>\n",
       "      <th>w1</th>\n",
       "      <th>w2</th>\n",
       "      <th>token</th>\n",
       "    </tr>\n",
       "  </thead>\n",
       "  <tbody>\n",
       "    <tr>\n",
       "      <th>0</th>\n",
       "      <td>-6.031919</td>\n",
       "      <td>1.880490</td>\n",
       "      <td>troll 2</td>\n",
       "    </tr>\n",
       "    <tr>\n",
       "      <th>1</th>\n",
       "      <td>1.836322</td>\n",
       "      <td>0.140816</td>\n",
       "      <td>is</td>\n",
       "    </tr>\n",
       "    <tr>\n",
       "      <th>2</th>\n",
       "      <td>-0.321435</td>\n",
       "      <td>-0.666730</td>\n",
       "      <td>great</td>\n",
       "    </tr>\n",
       "    <tr>\n",
       "      <th>3</th>\n",
       "      <td>-5.955524</td>\n",
       "      <td>-0.052193</td>\n",
       "      <td>gymkata</td>\n",
       "    </tr>\n",
       "  </tbody>\n",
       "</table>\n",
       "</div>"
      ],
      "text/plain": [
       "         w1        w2    token\n",
       "0 -6.031919  1.880490  troll 2\n",
       "1  1.836322  0.140816       is\n",
       "2 -0.321435 -0.666730    great\n",
       "3 -5.955524 -0.052193  gymkata"
      ]
     },
     "execution_count": 9,
     "metadata": {},
     "output_type": "execute_result"
    }
   ],
   "source": [
    "data = {\n",
    "    \"w1\": [\n",
    "        model.input1w1.item(),\n",
    "        model.input2w1.item(),\n",
    "        model.input3w1.item(),\n",
    "        model.input4w1.item(),\n",
    "    ],\n",
    "\n",
    "    \"w2\": [\n",
    "        model.input1w2.item(),\n",
    "        model.input2w2.item(),\n",
    "        model.input3w2.item(),\n",
    "        model.input4w2.item(),\n",
    "    ],\n",
    "\n",
    "    \"token\": vocab,\n",
    "}\n",
    "\n",
    "df = pd.DataFrame(data=data)\n",
    "df"
   ]
  },
  {
   "cell_type": "code",
   "execution_count": 10,
   "metadata": {},
   "outputs": [
    {
     "data": {
      "text/plain": [
       "Text(-5.955524444580078, -0.052193447947502136, 'gymkata')"
      ]
     },
     "execution_count": 10,
     "metadata": {},
     "output_type": "execute_result"
    },
    {
     "data": {
      "image/png": "[encoded data removed]",
      "text/plain": [
       "<Figure size 640x480 with 1 Axes>"
      ]
     },
     "metadata": {},
     "output_type": "display_data"
    }
   ],
   "source": [
    "sns.scatterplot(data=df, x=\"w1\", y=\"w2\")\n",
    "plt.text(df.w1[0], df.w2[0], df.token[0])\n",
    "plt.text(df.w1[1], df.w2[1], df.token[1])\n",
    "plt.text(df.w1[2], df.w2[2], df.token[2])\n",
    "plt.text(df.w1[3], df.w2[3], df.token[3])"
   ]
  },
  {
   "cell_type": "code",
   "execution_count": 11,
   "metadata": {},
   "outputs": [],
   "source": [
    "class WordEmbedding(nn.Module):\n",
    "    def __init__(self):\n",
    "        super(WordEmbedding, self).__init__()\n",
    "\n",
    "        self.linear1 = nn.Linear(in_features=4, out_features=2, bias=False)\n",
    "        self.linear2 = nn.Linear(in_features=2, out_features=4, bias=False)\n",
    "\n",
    "    def forward(self, x):\n",
    "        h = self.linear1(x)\n",
    "        return self.linear2(h)"
   ]
  },
  {
   "cell_type": "code",
   "execution_count": 12,
   "metadata": {},
   "outputs": [],
   "source": [
    "model = WordEmbedding()\n",
    "optimizer = torch.optim.AdamW(params=model.parameters(), lr=0.1)\n",
    "loss_fn = nn.CrossEntropyLoss()\n",
    "\n"
   ]
  },
  {
   "cell_type": "code",
   "execution_count": 13,
   "metadata": {},
   "outputs": [
    {
     "name": "stderr",
     "output_type": "stream",
     "text": [
      "100%|██████████| 10000/10000 [00:19<00:00, 504.79it/s]"
     ]
    },
    {
     "name": "stdout",
     "output_type": "stream",
     "text": [
      "tensor(-0., grad_fn=<DivBackward1>)\n"
     ]
    },
    {
     "name": "stderr",
     "output_type": "stream",
     "text": [
      "\n"
     ]
    }
   ],
   "source": [
    "epochs = 10000\n",
    "\n",
    "for epochs in tqdm(range(epochs)):\n",
    "    for x, y in dataloader:\n",
    "        logits = model(x.type(torch.float32))\n",
    "        loss = loss_fn(logits, y.type(torch.float32))\n",
    "        optimizer.zero_grad()\n",
    "        loss.backward()\n",
    "        optimizer.step()\n",
    "print(loss)"
   ]
  },
  {
   "cell_type": "code",
   "execution_count": 14,
   "metadata": {},
   "outputs": [
    {
     "name": "stdout",
     "output_type": "stream",
     "text": [
      "tensor(1)\n",
      "Input --> troll 2\n",
      "is\n"
     ]
    }
   ],
   "source": [
    "input = torch.tensor([[1, 0, 0, 0]], dtype=torch.float32)\n",
    "with torch.inference_mode():\n",
    "    logits = model(input)\n",
    "    probs = torch.softmax(logits, dim=1)\n",
    "    preds = torch.argmax(probs)\n",
    "print(preds)\n",
    "print(f\"Input --> {vocab[torch.argmax(input)]}\")\n",
    "print(vocab[preds])"
   ]
  },
  {
   "cell_type": "code",
   "execution_count": 15,
   "metadata": {},
   "outputs": [
    {
     "data": {
      "text/html": [
       "<div>\n",
       "<style scoped>\n",
       "    .dataframe tbody tr th:only-of-type {\n",
       "        vertical-align: middle;\n",
       "    }\n",
       "\n",
       "    .dataframe tbody tr th {\n",
       "        vertical-align: top;\n",
       "    }\n",
       "\n",
       "    .dataframe thead th {\n",
       "        text-align: right;\n",
       "    }\n",
       "</style>\n",
       "<table border=\"1\" class=\"dataframe\">\n",
       "  <thead>\n",
       "    <tr style=\"text-align: right;\">\n",
       "      <th></th>\n",
       "      <th>w1</th>\n",
       "      <th>w2</th>\n",
       "      <th>token</th>\n",
       "    </tr>\n",
       "  </thead>\n",
       "  <tbody>\n",
       "    <tr>\n",
       "      <th>0</th>\n",
       "      <td>-0.643668</td>\n",
       "      <td>-8.495802</td>\n",
       "      <td>troll 2</td>\n",
       "    </tr>\n",
       "    <tr>\n",
       "      <th>1</th>\n",
       "      <td>4.575456</td>\n",
       "      <td>1.108247</td>\n",
       "      <td>is</td>\n",
       "    </tr>\n",
       "    <tr>\n",
       "      <th>2</th>\n",
       "      <td>-3.844294</td>\n",
       "      <td>-0.916255</td>\n",
       "      <td>great</td>\n",
       "    </tr>\n",
       "    <tr>\n",
       "      <th>3</th>\n",
       "      <td>-0.843224</td>\n",
       "      <td>-9.223232</td>\n",
       "      <td>gymkata</td>\n",
       "    </tr>\n",
       "  </tbody>\n",
       "</table>\n",
       "</div>"
      ],
      "text/plain": [
       "         w1        w2    token\n",
       "0 -0.643668 -8.495802  troll 2\n",
       "1  4.575456  1.108247       is\n",
       "2 -3.844294 -0.916255    great\n",
       "3 -0.843224 -9.223232  gymkata"
      ]
     },
     "execution_count": 15,
     "metadata": {},
     "output_type": "execute_result"
    }
   ],
   "source": [
    "data = {\n",
    "    \"w1\": model.linear1.weight.detach()[0].numpy(),\n",
    "    \"w2\": model.linear1.weight.detach()[1].numpy(),\n",
    "\n",
    "    \"token\": vocab,\n",
    "}\n",
    "\n",
    "df = pd.DataFrame(data=data)\n",
    "df"
   ]
  },
  {
   "cell_type": "code",
   "execution_count": 16,
   "metadata": {},
   "outputs": [
    {
     "data": {
      "text/plain": [
       "Text(-0.8432241082191467, -9.22323226928711, 'gymkata')"
      ]
     },
     "execution_count": 16,
     "metadata": {},
     "output_type": "execute_result"
    },
    {
     "data": {
      "image/png": "[encoded data removed]",
      "text/plain": [
       "<Figure size 640x480 with 1 Axes>"
      ]
     },
     "metadata": {},
     "output_type": "display_data"
    }
   ],
   "source": [
    "sns.scatterplot(data=df, x=\"w1\", y=\"w2\")\n",
    "plt.text(df.w1[0], df.w2[0], df.token[0])\n",
    "plt.text(df.w1[1], df.w2[1], df.token[1])\n",
    "plt.text(df.w1[2], df.w2[2], df.token[2])\n",
    "plt.text(df.w1[3], df.w2[3], df.token[3])"
   ]
  },
  {
   "cell_type": "code",
   "execution_count": 139,
   "metadata": {},
   "outputs": [],
   "source": [
    "#Using nn.Embedding\n",
    "\n",
    "class WordPredict(nn.Module):\n",
    "    def __init__(self, vocab_size, n_crammed_dimension):\n",
    "        super(WordPredict, self).__init__()\n",
    "\n",
    "        self.token_embedding = nn.Embedding(vocab_size, n_crammed_dimension)\n",
    "        self.fl = nn.Linear(in_features=n_crammed_dimension, out_features=4)\n",
    "\n",
    "    def forward(self, x, batched:bool):\n",
    "        emb = self.token_embedding(x)\n",
    "        if batched:\n",
    "            B, T, C = emb.shape\n",
    "            emb = emb.view(B*T, C)\n",
    "        #logits = self.fl(emb)\n",
    "        #logits = self.fl(emb)\n",
    "        #print(logits.shape)\n",
    "        #if batched:\n",
    "\n",
    "            \n",
    "        return emb\n",
    "\n"
   ]
  },
  {
   "cell_type": "code",
   "execution_count": 141,
   "metadata": {},
   "outputs": [
    {
     "name": "stdout",
     "output_type": "stream",
     "text": [
      "tensor([1, 0, 0, 0])\n"
     ]
    }
   ],
   "source": [
    "print(inputs[0])\n",
    "model = WordPredict(vocab_size=len(vocab), n_crammed_dimension=2)\n",
    "optimizer = torch.optim.AdamW(params=model.parameters(), lr=0.1)\n",
    "loss_fn = nn.CrossEntropyLoss()\n"
   ]
  },
  {
   "cell_type": "code",
   "execution_count": 176,
   "metadata": {},
   "outputs": [
    {
     "name": "stderr",
     "output_type": "stream",
     "text": [
      "100%|██████████| 1/1 [00:00<00:00, 419.14it/s]"
     ]
    },
    {
     "name": "stdout",
     "output_type": "stream",
     "text": [
      "tensor(0.4782, grad_fn=<NllLossBackward0>)\n"
     ]
    },
    {
     "name": "stderr",
     "output_type": "stream",
     "text": [
      "\n"
     ]
    }
   ],
   "source": [
    "epochs = 1\n",
    "\n",
    "for epoch in tqdm(range(epochs)):\n",
    "    for x, y in dataloader:\n",
    "        logits = model(x, True)\n",
    "        y = y.view(-1) #unbatch the y because the logits are also unbatched at the end\n",
    "\n",
    "        loss = loss_fn(logits, y)\n",
    "        optimizer.zero_grad()\n",
    "        loss.backward()\n",
    "        optimizer.step()\n",
    "\n",
    "print(loss)"
   ]
  },
  {
   "cell_type": "code",
   "execution_count": 133,
   "metadata": {},
   "outputs": [
    {
     "name": "stdout",
     "output_type": "stream",
     "text": [
      "tensor([0, 0, 0, 0])\n"
     ]
    }
   ],
   "source": [
    "with torch.inference_mode():\n",
    "    logits = model(torch.tensor([[0, 0, 1, 0]]), batched=True)\n",
    "    probs = torch.softmax(logits, dim=1)\n",
    "    preds = torch.argmax(probs, dim=1)\n",
    "print(preds)"
   ]
  },
  {
   "cell_type": "code",
   "execution_count": null,
   "metadata": {},
   "outputs": [],
   "source": []
  },
  {
   "cell_type": "code",
   "execution_count": null,
   "metadata": {},
   "outputs": [],
   "source": []
  }
 ],
 "metadata": {
  "kernelspec": {
   "display_name": "Python 3",
   "language": "python",
   "name": "python3"
  },
  "language_info": {
   "codemirror_mode": {
    "name": "ipython",
    "version": 3
   },
   "file_extension": ".py",
   "mimetype": "text/x-python",
   "name": "python",
   "nbconvert_exporter": "python",
   "pygments_lexer": "ipython3",
   "version": "3.11.6"
  }
 },
 "nbformat": 4,
 "nbformat_minor": 2
}
